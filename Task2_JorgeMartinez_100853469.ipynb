{
 "cells": [
  {
   "cell_type": "code",
   "execution_count": 2,
   "id": "9cb6f705-79ed-4660-8f9e-b1671202e04f",
   "metadata": {},
   "outputs": [],
   "source": [
    "# Import Cells"
   ]
  },
  {
   "cell_type": "code",
   "execution_count": 3,
   "id": "cf83a2ba-e704-4865-a81e-e81b355321f5",
   "metadata": {},
   "outputs": [],
   "source": [
    "import os\n",
    "import requests\n",
    "import re\n",
    "import sys\n",
    "from bs4 import BeautifulSoup"
   ]
  },
  {
   "cell_type": "code",
   "execution_count": null,
   "id": "aed34a29-1f48-42d1-8242-9b9d3f0c52c3",
   "metadata": {},
   "outputs": [],
   "source": []
  },
  {
   "cell_type": "code",
   "execution_count": 4,
   "id": "e2edb2b3-4d0d-4df3-a0bb-72874169de9c",
   "metadata": {},
   "outputs": [],
   "source": [
    "# Variables"
   ]
  },
  {
   "cell_type": "code",
   "execution_count": 5,
   "id": "4164c07e-1214-4a10-8e19-32c109056fbf",
   "metadata": {},
   "outputs": [],
   "source": [
    "# Medium article URL\n",
    "url = 'https://medium.com/@subashdangol7/papa-what-is-a-neural-network-c8c5e0cc27cf'"
   ]
  },
  {
   "cell_type": "code",
   "execution_count": null,
   "id": "42183020-a875-485a-a2a8-75e0623c892d",
   "metadata": {},
   "outputs": [],
   "source": []
  },
  {
   "cell_type": "code",
   "execution_count": 6,
   "id": "481a8305-0199-4047-a5c6-292555fdd833",
   "metadata": {},
   "outputs": [],
   "source": [
    "# Get_Page () function"
   ]
  },
  {
   "cell_type": "code",
   "execution_count": 7,
   "id": "e1890276-502d-4bbf-8044-91d48f5cc22b",
   "metadata": {},
   "outputs": [],
   "source": [
    "def get_page():\n",
    "    if not re.match(r'^https://medium.com/', url):\n",
    "        print(\"Please enter a valid Medium URL.\")\n",
    "        sys.exit(1)\n",
    "    res = requests.get(url)\n",
    "    res.raise_for_status()\n",
    "    soup = BeautifulSoup(res.text, 'html.parser')\n",
    "    return soup"
   ]
  },
  {
   "cell_type": "code",
   "execution_count": null,
   "id": "c0f50b09-be10-4dbf-92b8-67743aa8838f",
   "metadata": {},
   "outputs": [],
   "source": []
  },
  {
   "cell_type": "code",
   "execution_count": 8,
   "id": "f0894843-3a86-448b-8e06-8865bae5a22a",
   "metadata": {},
   "outputs": [],
   "source": [
    "# Clean () function"
   ]
  },
  {
   "cell_type": "code",
   "execution_count": 9,
   "id": "f0ce3a58-61fe-4ae0-aba4-5e268cefc986",
   "metadata": {},
   "outputs": [],
   "source": [
    "def clean(text):\n",
    "    rep = {\"<br>\": \"\\n\", \"<br/>\": \"\\n\", \"<li>\":  \"\\n\"}\n",
    "    rep = dict((re.escape(k), v) for k, v in rep.items()) \n",
    "    pattern = re.compile(\"|\".join(rep.keys()))\n",
    "    text = pattern.sub(lambda m: rep[re.escape(m.group(0))], text)\n",
    "    text = re.sub(r'<.*?>', '', text)\n",
    "    return text"
   ]
  },
  {
   "cell_type": "code",
   "execution_count": null,
   "id": "c6f3b915-8ede-48ec-b241-ca9aba5aa165",
   "metadata": {},
   "outputs": [],
   "source": []
  },
  {
   "cell_type": "code",
   "execution_count": 10,
   "id": "19865646-4ed8-4acc-a74b-a4288c723282",
   "metadata": {},
   "outputs": [],
   "source": [
    "# Collect_Text ()"
   ]
  },
  {
   "cell_type": "code",
   "execution_count": 11,
   "id": "90fe40e0-3627-43d6-9206-bd93a7be2489",
   "metadata": {},
   "outputs": [],
   "source": [
    "def collect_text(soup):\n",
    "    text = f'url: {url}\\n\\n'\n",
    "    para_text = soup.find_all('p')\n",
    "    print(f\"paragraphs text = \\n {para_text}\")\n",
    "    for para in para_text:\n",
    "        text += f\"{para.text}\\n\\n\"\n",
    "    return text"
   ]
  },
  {
   "cell_type": "code",
   "execution_count": null,
   "id": "ed36ec8a-660d-40a6-a7e4-ad34d3102831",
   "metadata": {},
   "outputs": [],
   "source": []
  },
  {
   "cell_type": "code",
   "execution_count": 12,
   "id": "05952aa4-610e-45ca-adf0-77c52ba51812",
   "metadata": {},
   "outputs": [],
   "source": [
    "# Save_File ()"
   ]
  },
  {
   "cell_type": "code",
   "execution_count": 13,
   "id": "40cfdd8c-aefb-49e2-993d-7ec71865b9d1",
   "metadata": {},
   "outputs": [],
   "source": [
    "def save_file(text):\n",
    "    if not os.path.exists('./scraped_articles'):\n",
    "        os.mkdir('./scraped_articles')\n",
    "    name = url.split(\"/\")[-1]\n",
    "    print(name)\n",
    "    fname = f'scraped_articles/{name}.txt'\n",
    "    with open(fname, 'w', encoding='utf-8') as f:\n",
    "        f.write(text)\n",
    "    print(f'File saved in directory {fname}')"
   ]
  },
  {
   "cell_type": "code",
   "execution_count": null,
   "id": "eb941f29-a7e4-4710-8b53-6aadedd7fabf",
   "metadata": {},
   "outputs": [],
   "source": []
  },
  {
   "cell_type": "code",
   "execution_count": 14,
   "id": "55ab1485-819d-4ff9-a1fa-6a009e251f0d",
   "metadata": {},
   "outputs": [],
   "source": [
    "# Run it"
   ]
  },
  {
   "cell_type": "code",
   "execution_count": 15,
   "id": "15eb8f4a-64b2-4857-a481-055d0cd2b110",
   "metadata": {},
   "outputs": [
    {
     "name": "stdout",
     "output_type": "stream",
     "text": [
      "paragraphs text = \n",
      " [<p class=\"bf b dx dy dz ea eb ec ed ee ef eg du\"><span><button class=\"bf b dx dy eh dz ea ei eb ec ej ek ee el em eg eo ep eq er es et eu ev ew ex ey ez fa fb fc fd bm fe ff\" data-testid=\"headerSignUpButton\">Sign up</button></span></p>, <p class=\"bf b dx dy dz ea eb ec ed ee ef eg du\"><span><a class=\"ag ah ai fh ak al am an ao ap aq ar as at au\" data-testid=\"headerSignInButton\" href=\"/m/signin?operation=login&amp;redirect=https%3A%2F%2Fmedium.com%2F%40subashdangol7%2Fpapa-what-is-a-neural-network-c8c5e0cc27cf&amp;source=post_page---top_nav_layout_nav-----------------------global_nav------------------\" rel=\"noopener follow\">Sign in</a></span></p>, <p class=\"bf b dx dy dz ea eb ec ed ee ef eg du\"><span><button class=\"bf b dx dy eh dz ea ei eb ec ej ek ee el em eg eo ep eq er es et eu ev ew ex ey ez fa fb fc fd bm fe ff\" data-testid=\"headerSignUpButton\">Sign up</button></span></p>, <p class=\"bf b dx dy dz ea eb ec ed ee ef eg du\"><span><a class=\"ag ah ai fh ak al am an ao ap aq ar as at au\" data-testid=\"headerSignInButton\" href=\"/m/signin?operation=login&amp;redirect=https%3A%2F%2Fmedium.com%2F%40subashdangol7%2Fpapa-what-is-a-neural-network-c8c5e0cc27cf&amp;source=post_page---top_nav_layout_nav-----------------------global_nav------------------\" rel=\"noopener follow\">Sign in</a></span></p>, <p class=\"bf b bg ab du\">Member-only</p>, <p class=\"bf b bg ab du\">Member-only</p>, <p class=\"bf b bg ab du\">Member-only</p>, <p class=\"bf b bg ab du\">Member-only</p>, <p class=\"bf b bg ab du\">Member-only</p>, <p class=\"bf b bg ab du\">Member-only</p>]\n",
      "papa-what-is-a-neural-network-c8c5e0cc27cf\n",
      "File saved in directory scraped_articles/papa-what-is-a-neural-network-c8c5e0cc27cf.txt\n"
     ]
    }
   ],
   "source": [
    "text = collect_text(get_page())\n",
    "save_file(text)"
   ]
  },
  {
   "cell_type": "code",
   "execution_count": null,
   "id": "f766dfdb-49f0-41a3-b525-144875f079aa",
   "metadata": {},
   "outputs": [],
   "source": []
  },
  {
   "cell_type": "code",
   "execution_count": null,
   "id": "ecbb4024-a245-4f7d-acfe-d5dc02338490",
   "metadata": {},
   "outputs": [],
   "source": []
  },
  {
   "cell_type": "code",
   "execution_count": null,
   "id": "602d5222-262d-45bd-944d-3ad778d401a8",
   "metadata": {},
   "outputs": [],
   "source": []
  },
  {
   "cell_type": "code",
   "execution_count": null,
   "id": "9dcfa43f-6194-4ad8-982e-1e1fd7d9d115",
   "metadata": {},
   "outputs": [],
   "source": []
  },
  {
   "cell_type": "code",
   "execution_count": null,
   "id": "17fa8f96-dd1e-4cce-9a72-44db88726bdd",
   "metadata": {},
   "outputs": [],
   "source": []
  }
 ],
 "metadata": {
  "kernelspec": {
   "display_name": "Python [conda env:base] *",
   "language": "python",
   "name": "conda-base-py"
  },
  "language_info": {
   "codemirror_mode": {
    "name": "ipython",
    "version": 3
   },
   "file_extension": ".py",
   "mimetype": "text/x-python",
   "name": "python",
   "nbconvert_exporter": "python",
   "pygments_lexer": "ipython3",
   "version": "3.12.7"
  }
 },
 "nbformat": 4,
 "nbformat_minor": 5
}
